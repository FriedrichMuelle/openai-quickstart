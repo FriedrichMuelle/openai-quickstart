{
 "cells": [
  {
   "cell_type": "markdown",
   "id": "1f89506a-6dda-4e4d-9c44-54f6815f59aa",
   "metadata": {},
   "source": [
    "## 使用 pdfplumber 解析 PDF 文件\n",
    "\n",
    "### 项目简介\n",
    "\n",
    "[pdfplumber](https://github.com/jsvine/pdfplumber) 项目(基于pdfminer.six开发)，支持解析PDF文件，获取每个文本字符、矩形和线条的详细信息。此外还支持表格提取和可视化调试。\n",
    "\n",
    "对于机器生成的PDF而言效果最佳，不适用于扫描得到的PDF。\n",
    "\n",
    "支持：Python 3.8~3.11\n",
    "\n",
    "![](images/pdfplumber.png)\n",
    "\n",
    "\n",
    "本 Notebook 主要内容如下：\n",
    "\n",
    "- 加载PDF文件\n",
    "- 提取单页文本\n",
    "- 提取单页表格\n",
    "- 可视化调试页面\n",
    "- 提取页面图像"
   ]
  },
  {
   "cell_type": "markdown",
   "id": "18fcace0-03a5-4840-8b46-ed5cf0dcda68",
   "metadata": {},
   "source": [
    "### 加载PDF文件\n",
    "\n",
    "要开始处理PDF，请调用`pdfplumber.open(x)`方法，其中`x`可以是：\n",
    "\n",
    "- PDF 文件路径\n",
    "- 作为字节加载的文件对象\n",
    "- 作为字节加载的类似文件的对象\n",
    "\n",
    "open方法将返回一个`pdfplumber.PDF`类的实例。\n",
    "\n",
    "##### 高级加载参数\n",
    "\n",
    "要加载受密码保护的PDF，请传递`password`关键字参数，例如：`pdfplumber.open(\"file.pdf\", password=\"test\")`。\n",
    "\n",
    "要设置布局分析参数到`pdfminer.six`的布局引擎中，请传递`laparams`关键字参数，例如：`pdfplumber.open(\"file.pdf\", laparams={\"line_overlap\": 0.7})`。\n",
    "\n"
   ]
  },
  {
   "cell_type": "markdown",
   "id": "84f147ee-9fb2-40ff-9bc9-a7a99bf5f99b",
   "metadata": {},
   "source": [
    "### pdfplumber.PDF 类(Top-level)\n",
    "\n",
    "`pdfplumber.PDF`类表示一个独立的PDF文件，两个主要成员变量：\n",
    "\n",
    "| 属性 | 描述 |\n",
    "|----------|-------------|\n",
    "|`.metadata`| 一个由PDF的 `Info` 尾部信息中的元数据键/值对组成的字典。通常包括 \"CreationDate,\" \"ModDate,\" \"Producer,\" 等等。|\n",
    "|`.pages`| 包含每个已加载页面的 `pdfplumber.Page` 实例的列表。|\n",
    "\n",
    "一个主要成员方法：\n",
    "\n",
    "| 方法 | 描述 |\n",
    "|--------|-------------|\n",
    "|`.close()`| 默认情况下，`Page` 对象会缓存其布局和对象信息，以避免重新处理。然而，在解析大型PDF时，这些缓存的属性可能需要大量内存。你可以使用此方法来清除缓存并释放内存。（在 `<= 0.5.25` 版本中，使用 `.flush_cache()`。）|"
   ]
  },
  {
   "cell_type": "code",
   "execution_count": null,
   "id": "d725767e",
   "metadata": {},
   "outputs": [],
   "source": [
    "%pip install pdfplumber"
   ]
  },
  {
   "cell_type": "code",
   "execution_count": null,
   "id": "1b500262-a7a8-4ad1-8bdf-47de01ddab9e",
   "metadata": {},
   "outputs": [],
   "source": [
    "import pdfplumber\n",
    "\n",
    "pdf = pdfplumber.open(\"The_Old_Man_of_the_Sea.pdf\")"
   ]
  },
  {
   "cell_type": "code",
   "execution_count": null,
   "id": "76ccc94f-3cfb-4db4-bfdb-b368f0484bf8",
   "metadata": {},
   "outputs": [],
   "source": [
    "pdf.metadata"
   ]
  },
  {
   "cell_type": "code",
   "execution_count": null,
   "id": "6678c068-6782-4f88-b637-b2bf7ab97027",
   "metadata": {},
   "outputs": [],
   "source": [
    "pdf.pages"
   ]
  },
  {
   "cell_type": "code",
   "execution_count": null,
   "id": "0a7c47dc-d30d-4f30-9881-dcb7543e52e0",
   "metadata": {},
   "outputs": [],
   "source": [
    "type(pdf.pages[0])"
   ]
  },
  {
   "cell_type": "markdown",
   "id": "9b0d3374-01a5-406c-b91a-4b1f30941d77",
   "metadata": {},
   "source": [
    "### pdfplumber.Page 类\n",
    "\n",
    "`pdfplumber.Page` 类是 `pdfplumber` 的核心，表示PDF文件中一页单独的内容。\n",
    "\n",
    "当我们使用 `pdfplumber` 时，大部分操作都会围绕这个类展开。\n",
    "\n",
    "主要成员变量如下：\n",
    "\n",
    "| 属性 | 描述 |\n",
    "|----------|-------------|\n",
    "|`.page_number`| 顺序页码，从第一页开始为 `1`，第二页为 `2`，以此类推。|\n",
    "|`.width`| 页面的宽度。|\n",
    "|`.height`| 页面的高度。|\n",
    "|`.objects` / `.chars` / `.lines` / `.rects` / `.curves` / `.images`| 这些属性都是列表，每个列表包含页面上嵌入的每个此类对象的一个字典。\n"
   ]
  },
  {
   "cell_type": "code",
   "execution_count": null,
   "id": "1d2d7a97-f830-4be9-b5f2-e4c187d26927",
   "metadata": {},
   "outputs": [],
   "source": [
    "pdf = pdfplumber.open(\"test.pdf\")"
   ]
  },
  {
   "cell_type": "code",
   "execution_count": null,
   "id": "4f05b7bd-91f5-4091-b460-93f3363baa24",
   "metadata": {},
   "outputs": [],
   "source": [
    "pages = pdf.pages\n",
    "print(pages)"
   ]
  },
  {
   "cell_type": "code",
   "execution_count": null,
   "id": "3a9be6ef-7345-4b16-878d-e5df3238471b",
   "metadata": {},
   "outputs": [],
   "source": [
    "pages[0].page_number"
   ]
  },
  {
   "cell_type": "code",
   "execution_count": null,
   "id": "ea51868e-9428-45bc-a958-a287160b08ff",
   "metadata": {},
   "outputs": [],
   "source": [
    "print(pages[0].width, pages[0].height)"
   ]
  },
  {
   "cell_type": "code",
   "execution_count": null,
   "id": "2f16a505-164c-4641-aef4-027c85d1a3f2",
   "metadata": {},
   "outputs": [],
   "source": [
    "# 可视化第1页\n",
    "pages[0].to_image()"
   ]
  },
  {
   "cell_type": "code",
   "execution_count": null,
   "id": "8e2ecbfe-3051-42bc-8a4d-d68507dde9c1",
   "metadata": {},
   "outputs": [],
   "source": [
    "# 可视化第2页（尝试调整分辨率和抗锯齿）\n",
    "pages[1].to_image()"
   ]
  },
  {
   "cell_type": "code",
   "execution_count": null,
   "id": "a800658b-c174-4ad2-a4c6-815bc21b08b5",
   "metadata": {},
   "outputs": [],
   "source": []
  },
  {
   "cell_type": "code",
   "execution_count": null,
   "id": "383841ab-b784-4323-ae47-d54a51fe150d",
   "metadata": {},
   "outputs": [],
   "source": []
  },
  {
   "cell_type": "code",
   "execution_count": null,
   "id": "661419f6-5cbc-4903-9ee4-38594feeafa0",
   "metadata": {},
   "outputs": [],
   "source": []
  },
  {
   "cell_type": "markdown",
   "id": "a356c12b-f32c-41f6-b0e8-eb5ab0845919",
   "metadata": {},
   "source": [
    "### 提取单页文本\n",
    "\n",
    "\n",
    "`pdfplumber`库支持从任何给定的页面(`pdfplumber.Page`)中提取文本（包括裁剪和派生页面）。\n",
    "\n",
    "在提取文本的基础功能外，同时支持保留文本布局，识别单词和搜索页面中的文本\n",
    "\n",
    "#### 文本提取方法\n",
    "\n",
    "`pdfplumber.Page` 对象可以调用以下方法：\n",
    "\n",
    "| 方法 | 描述 |\n",
    "|--------|-------------|\n",
    "|`.extract_text(x_tolerance=3, y_tolerance=3, layout=False, x_density=7.25, y_density=13, **kwargs)`| 将页面的所有字符对象汇集成一个单一的字符串。<ul><li><p>当 `layout=False` 时：在一个字符的 `x1` 和下一个字符的 `x0` 之间的差异大于 `x_tolerance` 时添加空格。在一个字符的 `doctop` 和下一个字符的 `doctop` 之间的差异大于 `y_tolerance` 时添加换行符。</p></li><li><p>当 `layout=True`（*实验性功能*）时：尝试模仿页面上文本的结构布局，使用 `x_density` 和 `y_density` 来确定每个\"点\"（PDF的度量单位）的最小字符/换行符数量。所有剩余的 `**kwargs` 都传递给 `.extract_words(...)`（见下文），这是计算布局的第一步。</p></li></ul>|\n",
    "|`.extract_text_simple(x_tolerance=3, y_tolerance=3)`| `.extract_text(...)` 的稍快但不太灵活的版本，使用更简单的逻辑。|\n",
    "|`.extract_words(x_tolerance=3, y_tolerance=3, keep_blank_chars=False, use_text_flow=False, horizontal_ltr=True, vertical_ttb=True, extra_attrs=[], split_at_punctuation=False, expand_ligatures=True)`| 返回所有看起来像单词的东西及其边界框的列表。单词被认为是字符序列，其中（对于\"直立\"字符）一个字符的 `x1` 和下一个字符的 `x0` 之间的差异小于或等于 `x_tolerance` *并且* 一个字符的 `doctop` 和下一个字符的 `doctop` 之间的差异小于或等于 `y_tolerance`。对于非直立字符，采取类似的方法，但是测量它们之间的垂直距离，而不是水平距离。参数 `horizontal_ltr` 和 `vertical_ttb` 表示是否应从左到右阅读单词（对于水平单词）/从上到下（对于垂直单词）。将 `keep_blank_chars` 更改为 `True` 将意味着空白字符被视为单词的一部分，而不是单词之间的空格。将 `use_text_flow` 更改为 `True` 将使用PDF的底层字符流作为排序和划分单词的指南，而不是预先按x/y位置排序字符。（这模仿了在PDF中拖动光标突出显示文本的方式；就像那样，顺序并不总是看起来逻辑。）传递 `extra_attrs` 列表（例如，`[\"fontname\", \"size\"]` 将限制每个单词的字符具有完全相同的值，对于这些[属性](#char-properties)，并且结果的单词dicts将指示这些属性。将 `split_at_punctuation` 设置为 `True` 将在 `string.punctuation` 指定的标点处强制分割标记；或者你可以通过传递一个字符串来指定分隔标点的列表，例如，<code>split_at_punctuation='!\"&\\'()*+,.:;<=>?@[\\]^\\`\\{\\|\\}~'</code>。除非你设置 `expand_ligatures=False`，否则将展开诸如 `ﬁ` 之类的连字成其组成字母（例如，`fi`）。|\n",
    "|`.extract_text_lines(layout=False, strip=True, return_chars=True, **kwargs)`|*实验性功能*，返回代表页面上文本行的字典列表。`strip` 参数类似于Python的 `str.strip()` 方法，并返回没有周围空白的 `text` 属性。（只有当 `layout = True` 时才相关。）将 `return_chars` 设置为 `False` 将排除从返回的文本行dicts中添加单个字符对象。剩余的 `**kwargs` 是你将传递给 `.extract_text(layout=True, ...)` 的参数。|\n",
    "|`.search(pattern, regex=True, case=True, main_group=0, return_groups=True, return_chars=True, layout=False, **kwargs)`|*实验性功能*，允许你搜索页面的文本，返回匹配查询的所有实例的列表。对于每个实例，响应字典对象包含匹配的文本、任何正则表达式组匹配、边界框坐标和字符对象本身。`pattern` 可以是编译的正则表达式、未编译的正则表达式或非正则字符串。如果 `regex` 是 `False`，则将模式视为非正则字符串。如果 `case` 是 `False`，则以不区分大小写的方式执行搜索。设置 `main_group` 将结果限制为 `pattern` 中的特定正则组（`0` 的默认值表示整个匹配）。将 `return_groups` 和/或 `return_chars` 设置为 `False` 将排除添加匹配的正则组和/或字符的列表（作为 `\"groups\"` 和 `\"chars\"` 添加到返回的dicts）。`layout` 参数的操作方式与 `.extract_text(...)` 相同。剩余的 `**kwargs` 是你将传递给 `.extract_text(layout=True, ...)` 的参数。 __注意__：零宽度和全空白匹配被丢弃，因为它们（通常）在页面上没有明确的位置。 |\n",
    "|`.dedupe_chars(tolerance=1)`| 返回页面的版本，其中删除了重复的字符 — 那些与其他字符共享相同的文本、字体名、大小和位置（在 `tolerance` x/y 内）的字符。（参见 [Issue #71](https://github.com/jsvine/pdfplumber/issues/71) 以理解动机。）|\n"
   ]
  },
  {
   "cell_type": "code",
   "execution_count": null,
   "id": "796103d6-0f83-4fd5-a9bd-5bc4b4c393a7",
   "metadata": {},
   "outputs": [],
   "source": [
    "# 获取单页文本\n",
    "p1_text = pages[0].extract_text()"
   ]
  },
  {
   "cell_type": "code",
   "execution_count": null,
   "id": "ffed75f0-ec46-478f-9b83-ca0156127206",
   "metadata": {},
   "outputs": [],
   "source": [
    "print(p1_text)"
   ]
  },
  {
   "cell_type": "code",
   "execution_count": null,
   "id": "b1ec2811-01a9-4e9d-8171-d3b083cf97f0",
   "metadata": {},
   "outputs": [],
   "source": [
    "# 获取单页文本（保留布局）\n",
    "p1_text = pages[0].extract_text(layout=True)"
   ]
  },
  {
   "cell_type": "code",
   "execution_count": null,
   "id": "510f03e4-1a88-4bf7-b71a-f03ce3215444",
   "metadata": {},
   "outputs": [],
   "source": [
    "print(p1_text)"
   ]
  },
  {
   "cell_type": "markdown",
   "id": "2c5eb0e9-3dca-4e10-8435-3261f748796b",
   "metadata": {},
   "source": [
    "**注意：表格也被文本解析出来了**"
   ]
  },
  {
   "cell_type": "code",
   "execution_count": null,
   "id": "1c57a531-892b-4f5b-99ab-d3a00e4c6623",
   "metadata": {},
   "outputs": [],
   "source": []
  },
  {
   "cell_type": "markdown",
   "id": "61b998ea-ec34-4467-96af-2145c5bb63d4",
   "metadata": {},
   "source": [
    "### 提取单页表格\n",
    "\n",
    "\n",
    "`pdfplumber` 对表格提取的方法大量借鉴了 [Anssi Nurminen 的硕士论文](http://dspace.cc.tut.fi/dpub/bitstream/handle/123456789/21520/Nurminen.pdf?sequence=3)，并受到 [Tabula](https://github.com/tabulapdf/tabula-extractor/issues/16) 的启发。\n",
    "\n",
    "它的工作原理如下：\n",
    "\n",
    "1. 对于任何给定的PDF页面，找到那些（a）明确定义的线条和/或（b）由页面上单词的对齐方式暗示的线条。\n",
    "2. 合并重叠的，或几乎重叠的，线条。\n",
    "3. 找到所有这些线条的交点。\n",
    "4. 找到使用这些交点作为顶点的最精细的矩形集合（即，单元格）。\n",
    "5. 将连续的单元格分组成表格。\n",
    "\n",
    "#### 表格提取方法\n",
    "\n",
    "`pdfplumber.Page` 对象可以调用以下方法：\n",
    "\n",
    "| 方法 | 描述 |\n",
    "|--------|-------------|\n",
    "|`.find_tables(table_settings={})`|返回一个 `Table` 对象的列表。`Table` 对象提供对 `.cells`，`.rows`，和 `.bbox` 属性的访问，以及 `.extract(x_tolerance=3, y_tolerance=3)` 方法。|\n",
    "|`.find_table(table_settings={})`|类似于 `.find_tables(...)`，但返回页面上 *最大* 的表格，作为一个 `Table` 对象。如果多个表格的大小相同 —— 以单元格数量衡量 —— 此方法返回最接近页面顶部的表格。|\n",
    "|`.extract_tables(table_settings={})`|返回从页面上找到的 *所有* 表格中提取的文本，表示为一个列表的列表的列表，结构为 `table -> row -> cell`。|\n",
    "|`.extract_table(table_settings={})`|返回从页面上 *最大* 的表格中提取的文本（参见上面的 `.find_table(...)`），表示为一个列表的列表，结构为 `row -> cell`。|\n",
    "|`.debug_tablefinder(table_settings={})`|返回 `TableFinder` 类的一个实例，可以访问 `.edges`，`.intersections`，`.cells`，和 `.tables` 属性。|"
   ]
  },
  {
   "cell_type": "code",
   "execution_count": null,
   "id": "f48b78be-103a-4efb-8c0e-1c7fb40cd880",
   "metadata": {},
   "outputs": [],
   "source": [
    "# 获取单页表格\n",
    "p1_table = pages[0].extract_table()"
   ]
  },
  {
   "cell_type": "code",
   "execution_count": null,
   "id": "ee3c888d-62e6-4e73-bcc0-0a7a587b6580",
   "metadata": {},
   "outputs": [],
   "source": [
    "p1_table"
   ]
  },
  {
   "cell_type": "code",
   "execution_count": null,
   "id": "9e9e7d7f-348e-4991-a3fd-085bec06efa8",
   "metadata": {},
   "outputs": [],
   "source": [
    "# 获取单页所有表格\n",
    "tables = pages[0].extract_tables()"
   ]
  },
  {
   "cell_type": "code",
   "execution_count": null,
   "id": "dc2c8129-66e6-4ccd-9293-24de2b3fa06e",
   "metadata": {},
   "outputs": [],
   "source": [
    "len(tables)"
   ]
  },
  {
   "cell_type": "code",
   "execution_count": null,
   "id": "318abecd-36d1-450b-8f2c-381a78dbfe1f",
   "metadata": {},
   "outputs": [],
   "source": [
    "tables"
   ]
  },
  {
   "cell_type": "code",
   "execution_count": null,
   "id": "2fbffdd0-8954-4a83-93c0-36fa22dd59b4",
   "metadata": {},
   "outputs": [],
   "source": [
    "p1_debug_table = pages[0].debug_tablefinder()"
   ]
  },
  {
   "cell_type": "code",
   "execution_count": null,
   "id": "df8b8060-d054-4ebd-9ae5-34acaa8156d1",
   "metadata": {},
   "outputs": [],
   "source": [
    "type(p1_debug_table)"
   ]
  },
  {
   "cell_type": "code",
   "execution_count": null,
   "id": "2951f438-a9c5-4e39-86d3-fe59a1989bfb",
   "metadata": {},
   "outputs": [],
   "source": [
    "p1_debug_table.tables"
   ]
  },
  {
   "cell_type": "markdown",
   "id": "c1ec5e80-fc09-4816-b5c4-893e95b6f367",
   "metadata": {},
   "source": [
    "#### 使用 Pandas.DataFrame 来展示和存储表格"
   ]
  },
  {
   "cell_type": "code",
   "execution_count": null,
   "id": "97c2a7c0-ecb6-41ec-bb39-9bbe12f86ab1",
   "metadata": {},
   "outputs": [],
   "source": [
    "import pandas as pd\n",
    "\n",
    "df = pd.DataFrame(p1_table[1:], columns=p1_table[0])"
   ]
  },
  {
   "cell_type": "code",
   "execution_count": null,
   "id": "581baa04-d5a1-4ce3-8580-891eda837b4d",
   "metadata": {},
   "outputs": [],
   "source": [
    "df"
   ]
  },
  {
   "cell_type": "markdown",
   "id": "bbb94c15-e006-455f-96bc-eece4e18cbd4",
   "metadata": {},
   "source": [
    "### 可视化调试页面\n",
    "\n",
    "`pdfplumber` 可视化调试工具可以帮助我们理解PDF文件的内容和结构，以及从中提取出来的对象。\n",
    "\n",
    "\n",
    "#### `PageImage` 类\n",
    "\n",
    "`pdfplumber.Page` 对象可以使用`.to_image()`方法，将任何页面（包括裁剪后的页面）转换为`PageImage`对象。\n",
    "\n",
    "`pdfplumber.Page.to_image()`方法主要参数：\n",
    "\n",
    "- resolution：所需每英寸像素数。默认值：72。类型：整数。\n",
    "- width：所需图像宽度（以像素为单位）。默认值：未设置，由分辨率确定。类型：整数。\n",
    "- height：所需图像高度（以像素为单位）。默认值：未设置，由分辨率确定。类型：整数。\n",
    "- antialias: 是否在创建图像时使用抗锯齿。将其设置为True可以创建具有较少锯齿的文本和图形，但文件大小会更大。默认值：False。类型：布尔值。"
   ]
  },
  {
   "cell_type": "code",
   "execution_count": null,
   "id": "6e4b1b0b-5dcd-4507-a6d0-a978a5e469f2",
   "metadata": {
    "scrolled": true
   },
   "outputs": [],
   "source": [
    "# 可视化第一页\n",
    "pages[0].to_image()"
   ]
  },
  {
   "cell_type": "code",
   "execution_count": null,
   "id": "877a430d-d933-4fec-8f5f-a3c0509b1de9",
   "metadata": {},
   "outputs": [],
   "source": [
    "# 可视化第二页（尝试调整分辨率和抗锯齿）\n",
    "pages[1].to_image()"
   ]
  },
  {
   "cell_type": "code",
   "execution_count": null,
   "id": "c3ef0aff-e2b9-4e1b-bb8e-e736185935ff",
   "metadata": {},
   "outputs": [],
   "source": []
  },
  {
   "cell_type": "markdown",
   "id": "5163fa2d-7a98-4c12-84d9-70e1182afde8",
   "metadata": {},
   "source": [
    "### 提取页面图像\n",
    "\n",
    "`pdfplumber.Page`  对象没有 extract_images 方法，所以不能直接从 PDF 页面中提取图像。\n",
    "\n",
    "但是，可以通过页面操作来截取和获取图像，`pdfplumber.Page`类相关成员变量如下：\n",
    "\n",
    "\n",
    "| 属性 | 描述 |\n",
    "|----------|-------------|\n",
    "|`.width`| 页面的宽度。|\n",
    "|`.height`| 页面的高度。|\n",
    "|`.objects` / `.chars` / `.lines` / `.rects` / `.curves` / `.images`| 这些属性都是列表，每个列表包含页面上嵌入的每个此类对象的一个字典。\n",
    "\n",
    "\n",
    "相关成员方法：\n",
    "\n",
    "| 方法 | 描述 |\n",
    "|--------|-------------|\n",
    "|`.crop(bounding_box, relative=False, strict=True)`| 返回裁剪到边界框的页面版本，边界框应表示为4元组，值为 `(x0, top, x1, bottom)`。裁剪的页面保留至少部分在边界框内的对象。如果对象只部分在框内，其尺寸将被切割以适应边界框。如果 `relative=True`，则边界框是从页面边界框的左上角偏移计算的，而不是绝对定位。（请参见 [Issue #245](https://github.com/jsvine/pdfplumber/issues/245) 以获取视觉示例和解释。）当 `strict=True`（默认值）时，裁剪的边界框必须完全在页面的边界框内。|\n",
    "|`.within_bbox(bounding_box, relative=False, strict=True)`| 类似于 `.crop`，但只保留 *完全在* 边界框内的对象。|\n",
    "|`.outside_bbox(bounding_box, relative=False, strict=True)`| 类似于 `.crop` 和 `.within_bbox`，但只保留 *完全在* 边界框外的对象。|\n",
    "|`.filter(test_function)`| 返回只有 `test_function(obj)` 返回 `True` 的 `.objects` 的页面版本。|\n",
    "\n"
   ]
  },
  {
   "cell_type": "code",
   "execution_count": null,
   "id": "8c6c4c76-d425-4a0d-bd62-2f502afec961",
   "metadata": {},
   "outputs": [],
   "source": [
    "# 从 PageImage 中获取页面图像分辨率\n",
    "pages[1].images"
   ]
  },
  {
   "cell_type": "code",
   "execution_count": null,
   "id": "29efdd4e-f31b-4612-a046-b9537cdb58ce",
   "metadata": {},
   "outputs": [],
   "source": [
    "img = pages[1].images[0]"
   ]
  },
  {
   "cell_type": "code",
   "execution_count": null,
   "id": "4eaf103b-bd3c-4081-861c-79f30438ea8c",
   "metadata": {},
   "outputs": [],
   "source": [
    "bbox = (img[\"x0\"], img[\"top\"], img[\"x1\"], img[\"bottom\"])"
   ]
  },
  {
   "cell_type": "code",
   "execution_count": null,
   "id": "d685120d-b734-4f99-9cdb-3636c08a56ed",
   "metadata": {},
   "outputs": [],
   "source": [
    "cropped_page = pages[1].crop(bbox)"
   ]
  },
  {
   "cell_type": "code",
   "execution_count": null,
   "id": "a6b5e99e-85df-4e6c-8087-17b61f49eb7b",
   "metadata": {},
   "outputs": [],
   "source": [
    "# 可视化裁剪后的第二页\n",
    "cropped_page.to_image()"
   ]
  },
  {
   "cell_type": "code",
   "execution_count": null,
   "id": "53fc4125-d027-4803-a080-bb2464694310",
   "metadata": {},
   "outputs": [],
   "source": [
    "# 可视化裁剪后的第二页+抗锯齿\n",
    "cropped_page.to_image(antialias=True)"
   ]
  },
  {
   "cell_type": "code",
   "execution_count": null,
   "id": "46de8387-6bf1-47eb-b915-56b31ed690de",
   "metadata": {},
   "outputs": [],
   "source": [
    "cropped_page.to_image(resolution=1080)"
   ]
  },
  {
   "cell_type": "code",
   "execution_count": null,
   "id": "3bd9f9ae-58d4-4f3a-aac9-3814a463ca55",
   "metadata": {},
   "outputs": [],
   "source": [
    "im = cropped_page.to_image(antialias=True)\n",
    "im.save(\"pdf_image_test.png\")"
   ]
  },
  {
   "cell_type": "code",
   "execution_count": null,
   "id": "bbb480bc-a7ee-48bf-bfcf-14120acf6e2f",
   "metadata": {},
   "outputs": [],
   "source": []
  },
  {
   "cell_type": "code",
   "execution_count": null,
   "id": "a48babba-33d5-4529-ab98-c3c60ed541fb",
   "metadata": {},
   "outputs": [],
   "source": []
  },
  {
   "cell_type": "code",
   "execution_count": null,
   "id": "bd66c8f0-42be-4f7c-863c-68bf2b2ef996",
   "metadata": {},
   "outputs": [],
   "source": []
  }
 ],
 "metadata": {
  "kernelspec": {
   "display_name": "Python 3 (ipykernel)",
   "language": "python",
   "name": "python3"
  },
  "language_info": {
   "codemirror_mode": {
    "name": "ipython",
    "version": 3
   },
   "file_extension": ".py",
   "mimetype": "text/x-python",
   "name": "python",
   "nbconvert_exporter": "python",
   "pygments_lexer": "ipython3",
   "version": "3.9.6"
  }
 },
 "nbformat": 4,
 "nbformat_minor": 5
}
